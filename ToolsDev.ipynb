{
 "cells": [
  {
   "cell_type": "markdown",
   "id": "6149262a",
   "metadata": {},
   "source": [
    "# Tool Development and Validation"
   ]
  },
  {
   "cell_type": "code",
   "execution_count": 1,
   "id": "3985659f",
   "metadata": {},
   "outputs": [],
   "source": [
    "from utils.tools import Tools\n",
    "\n",
    "tools = Tools()"
   ]
  },
  {
   "cell_type": "code",
   "execution_count": 2,
   "id": "d4904fb8",
   "metadata": {},
   "outputs": [
    {
     "data": {
      "text/html": [
       "<div>\n",
       "<style scoped>\n",
       "    .dataframe tbody tr th:only-of-type {\n",
       "        vertical-align: middle;\n",
       "    }\n",
       "\n",
       "    .dataframe tbody tr th {\n",
       "        vertical-align: top;\n",
       "    }\n",
       "\n",
       "    .dataframe thead th {\n",
       "        text-align: right;\n",
       "    }\n",
       "</style>\n",
       "<table border=\"1\" class=\"dataframe\">\n",
       "  <thead>\n",
       "    <tr style=\"text-align: right;\">\n",
       "      <th></th>\n",
       "      <th>id</th>\n",
       "      <th>title</th>\n",
       "      <th>desc</th>\n",
       "      <th>docs_engaged</th>\n",
       "      <th>docs_notengaged</th>\n",
       "      <th>high_docs</th>\n",
       "      <th>med_docs</th>\n",
       "      <th>low_docs</th>\n",
       "      <th>df</th>\n",
       "      <th>word_clouds</th>\n",
       "      <th>word_clouds_nocategories</th>\n",
       "      <th>regions</th>\n",
       "      <th>user_type_cnt</th>\n",
       "      <th>regions_desc</th>\n",
       "      <th>seq_model</th>\n",
       "    </tr>\n",
       "  </thead>\n",
       "  <tbody>\n",
       "    <tr>\n",
       "      <th>0</th>\n",
       "      <td>0</td>\n",
       "      <td>Schulwesen und Unwetter-Themen dominieren Inte...</td>\n",
       "      <td>Diese Benutzersegment sind stark an Themen aus...</td>\n",
       "      <td>[U1X423G, U1X423G, U1X423G, U1X423G, U1X423G, ...</td>\n",
       "      <td>[U1WVOF2, U1RrpwH, U1WVOF2, U1WVOF2, U1WVOF2, ...</td>\n",
       "      <td>Index(['U1X423G', 'Tz44yh3', 'U25cvNC', 'U1FwZ...</td>\n",
       "      <td>Index(['U1X423G', 'U18ieT0', 'U1nnvCt', 'U1Vp3...</td>\n",
       "      <td>Index(['U1X423G', 'U1Xifri', 'U20VRdp', 'U19zC...</td>\n",
       "      <td>event_date                           ...</td>\n",
       "      <td>{'engaged': [[[255 255 255], [255 255 255], [2...</td>\n",
       "      <td>{'engaged': [[[255 255 255], [255 255 255], [2...</td>\n",
       "      <td>{'Unterfranken': 196536, 'Schwaben': 191675, '...</td>\n",
       "      <td>{'frequent': 127684, 'nonfrequent': 32503}</td>\n",
       "      <td>**Regionale Interessen der Benutzer**\\nDie Erg...</td>\n",
       "      <td>{'df': ['Bayerische Kultur und Tierschutz', 'F...</td>\n",
       "    </tr>\n",
       "    <tr>\n",
       "      <th>1</th>\n",
       "      <td>1</td>\n",
       "      <td>Westernstadt- und Pullman-City-Themen dominier...</td>\n",
       "      <td>Die Benutzer sind stark interessiert an Themen...</td>\n",
       "      <td>[Tz44yh3, Tz44yh3, Tz44yh3, U1cOYkS, U1R6RAH, ...</td>\n",
       "      <td>[U1vfFvD, U1LVc1F, U24Sgay, U1ivOUP, TDwVipw, ...</td>\n",
       "      <td>Index(['U1X423G', 'Tz44yh3', 'U25cvNC', 'U1FwZ...</td>\n",
       "      <td>Index(['U1X423G', 'U18ieT0', 'U1nnvCt', 'U1Vp3...</td>\n",
       "      <td>Index(['U1X423G', 'U1Xifri', 'U20VRdp', 'U19zC...</td>\n",
       "      <td>event_date                           ...</td>\n",
       "      <td>{'engaged': [[[255 255 255], [255 255 255], [2...</td>\n",
       "      <td>{'engaged': [[[255 255 255], [255 255 255], [2...</td>\n",
       "      <td>{'Niederbayern': 108680, 'Mittelfranken': 5230...</td>\n",
       "      <td>{'frequent': 81807, 'nonfrequent': 30111}</td>\n",
       "      <td>**Regionale Interessen der Benutzer**\\n\\nDie E...</td>\n",
       "      <td>{'df': ['Bayerische Kultur und Tierschutz', 'F...</td>\n",
       "    </tr>\n",
       "    <tr>\n",
       "      <th>2</th>\n",
       "      <td>2</td>\n",
       "      <td>Bahntreue und Tarifstreit</td>\n",
       "      <td>Die Interesse dieser Benutzergruppe konzentrie...</td>\n",
       "      <td>[U2DTLhs, U1JIou0, U2AKLNZ, U1nMzVZ, U2DTLhs, ...</td>\n",
       "      <td>[U2C7oSB, TvfGDHo, U0K7z0m, U1nyJnF, U1Q6dDA, ...</td>\n",
       "      <td>Index(['U1X423G', 'Tz44yh3', 'U25cvNC', 'U1FwZ...</td>\n",
       "      <td>Index(['U1X423G', 'U18ieT0', 'U1nnvCt', 'U1Vp3...</td>\n",
       "      <td>Index(['U1X423G', 'U1Xifri', 'U20VRdp', 'U19zC...</td>\n",
       "      <td>event_date                           ...</td>\n",
       "      <td>{'engaged': [[[255 255 255], [255 255 255], [2...</td>\n",
       "      <td>{'engaged': [[[255 255 255], [255 255 255], [2...</td>\n",
       "      <td>{'Oberbayern': 21914, 'Mittelfranken': 8288, '...</td>\n",
       "      <td>{'frequent': 85158, 'nonfrequent': 28214}</td>\n",
       "      <td>**Regionale Interessen der Benutzer**\\n Die Er...</td>\n",
       "      <td>{'df': ['Bayerische Kultur und Tierschutz', 'F...</td>\n",
       "    </tr>\n",
       "  </tbody>\n",
       "</table>\n",
       "</div>"
      ],
      "text/plain": [
       "   id                                              title  \\\n",
       "0   0  Schulwesen und Unwetter-Themen dominieren Inte...   \n",
       "1   1  Westernstadt- und Pullman-City-Themen dominier...   \n",
       "2   2                          Bahntreue und Tarifstreit   \n",
       "\n",
       "                                                desc  \\\n",
       "0  Diese Benutzersegment sind stark an Themen aus...   \n",
       "1  Die Benutzer sind stark interessiert an Themen...   \n",
       "2  Die Interesse dieser Benutzergruppe konzentrie...   \n",
       "\n",
       "                                        docs_engaged  \\\n",
       "0  [U1X423G, U1X423G, U1X423G, U1X423G, U1X423G, ...   \n",
       "1  [Tz44yh3, Tz44yh3, Tz44yh3, U1cOYkS, U1R6RAH, ...   \n",
       "2  [U2DTLhs, U1JIou0, U2AKLNZ, U1nMzVZ, U2DTLhs, ...   \n",
       "\n",
       "                                     docs_notengaged  \\\n",
       "0  [U1WVOF2, U1RrpwH, U1WVOF2, U1WVOF2, U1WVOF2, ...   \n",
       "1  [U1vfFvD, U1LVc1F, U24Sgay, U1ivOUP, TDwVipw, ...   \n",
       "2  [U2C7oSB, TvfGDHo, U0K7z0m, U1nyJnF, U1Q6dDA, ...   \n",
       "\n",
       "                                           high_docs  \\\n",
       "0  Index(['U1X423G', 'Tz44yh3', 'U25cvNC', 'U1FwZ...   \n",
       "1  Index(['U1X423G', 'Tz44yh3', 'U25cvNC', 'U1FwZ...   \n",
       "2  Index(['U1X423G', 'Tz44yh3', 'U25cvNC', 'U1FwZ...   \n",
       "\n",
       "                                            med_docs  \\\n",
       "0  Index(['U1X423G', 'U18ieT0', 'U1nnvCt', 'U1Vp3...   \n",
       "1  Index(['U1X423G', 'U18ieT0', 'U1nnvCt', 'U1Vp3...   \n",
       "2  Index(['U1X423G', 'U18ieT0', 'U1nnvCt', 'U1Vp3...   \n",
       "\n",
       "                                            low_docs  \\\n",
       "0  Index(['U1X423G', 'U1Xifri', 'U20VRdp', 'U19zC...   \n",
       "1  Index(['U1X423G', 'U1Xifri', 'U20VRdp', 'U19zC...   \n",
       "2  Index(['U1X423G', 'U1Xifri', 'U20VRdp', 'U19zC...   \n",
       "\n",
       "                                                  df  \\\n",
       "0           event_date                           ...   \n",
       "1           event_date                           ...   \n",
       "2           event_date                           ...   \n",
       "\n",
       "                                         word_clouds  \\\n",
       "0  {'engaged': [[[255 255 255], [255 255 255], [2...   \n",
       "1  {'engaged': [[[255 255 255], [255 255 255], [2...   \n",
       "2  {'engaged': [[[255 255 255], [255 255 255], [2...   \n",
       "\n",
       "                            word_clouds_nocategories  \\\n",
       "0  {'engaged': [[[255 255 255], [255 255 255], [2...   \n",
       "1  {'engaged': [[[255 255 255], [255 255 255], [2...   \n",
       "2  {'engaged': [[[255 255 255], [255 255 255], [2...   \n",
       "\n",
       "                                             regions  \\\n",
       "0  {'Unterfranken': 196536, 'Schwaben': 191675, '...   \n",
       "1  {'Niederbayern': 108680, 'Mittelfranken': 5230...   \n",
       "2  {'Oberbayern': 21914, 'Mittelfranken': 8288, '...   \n",
       "\n",
       "                                user_type_cnt  \\\n",
       "0  {'frequent': 127684, 'nonfrequent': 32503}   \n",
       "1   {'frequent': 81807, 'nonfrequent': 30111}   \n",
       "2   {'frequent': 85158, 'nonfrequent': 28214}   \n",
       "\n",
       "                                        regions_desc  \\\n",
       "0  **Regionale Interessen der Benutzer**\\nDie Erg...   \n",
       "1  **Regionale Interessen der Benutzer**\\n\\nDie E...   \n",
       "2  **Regionale Interessen der Benutzer**\\n Die Er...   \n",
       "\n",
       "                                           seq_model  \n",
       "0  {'df': ['Bayerische Kultur und Tierschutz', 'F...  \n",
       "1  {'df': ['Bayerische Kultur und Tierschutz', 'F...  \n",
       "2  {'df': ['Bayerische Kultur und Tierschutz', 'F...  "
      ]
     },
     "execution_count": 2,
     "metadata": {},
     "output_type": "execute_result"
    }
   ],
   "source": [
    "tools.user_segments.head(3)"
   ]
  },
  {
   "cell_type": "code",
   "execution_count": 3,
   "id": "db59857e",
   "metadata": {},
   "outputs": [
    {
     "data": {
      "text/html": [
       "<div>\n",
       "<style scoped>\n",
       "    .dataframe tbody tr th:only-of-type {\n",
       "        vertical-align: middle;\n",
       "    }\n",
       "\n",
       "    .dataframe tbody tr th {\n",
       "        vertical-align: top;\n",
       "    }\n",
       "\n",
       "    .dataframe thead th {\n",
       "        text-align: right;\n",
       "    }\n",
       "</style>\n",
       "<table border=\"1\" class=\"dataframe\">\n",
       "  <thead>\n",
       "    <tr style=\"text-align: right;\">\n",
       "      <th></th>\n",
       "      <th>id</th>\n",
       "      <th>title</th>\n",
       "      <th>desc</th>\n",
       "      <th>docs_engaged</th>\n",
       "      <th>docs_notengaged</th>\n",
       "      <th>high_docs</th>\n",
       "      <th>med_docs</th>\n",
       "      <th>low_docs</th>\n",
       "      <th>df</th>\n",
       "      <th>word_clouds</th>\n",
       "      <th>word_clouds_nocategories</th>\n",
       "      <th>regions</th>\n",
       "      <th>user_type_cnt</th>\n",
       "      <th>regions_desc</th>\n",
       "      <th>seq_model</th>\n",
       "    </tr>\n",
       "  </thead>\n",
       "  <tbody>\n",
       "    <tr>\n",
       "      <th>0</th>\n",
       "      <td>0</td>\n",
       "      <td>Schulwesen und Unwetter-Themen dominieren Inte...</td>\n",
       "      <td>Diese Benutzersegment sind stark an Themen aus...</td>\n",
       "      <td>[U1X423G, U1X423G, U1X423G, U1X423G, U1X423G, ...</td>\n",
       "      <td>[U1WVOF2, U1RrpwH, U1WVOF2, U1WVOF2, U1WVOF2, ...</td>\n",
       "      <td>Index(['U1X423G', 'Tz44yh3', 'U25cvNC', 'U1FwZ...</td>\n",
       "      <td>Index(['U1X423G', 'U18ieT0', 'U1nnvCt', 'U1Vp3...</td>\n",
       "      <td>Index(['U1X423G', 'U1Xifri', 'U20VRdp', 'U19zC...</td>\n",
       "      <td>event_date                           ...</td>\n",
       "      <td>{'engaged': [[[255 255 255], [255 255 255], [2...</td>\n",
       "      <td>{'engaged': [[[255 255 255], [255 255 255], [2...</td>\n",
       "      <td>{'Unterfranken': 196536, 'Schwaben': 191675, '...</td>\n",
       "      <td>{'frequent': 127684, 'nonfrequent': 32503}</td>\n",
       "      <td>**Regionale Interessen der Benutzer**\\nDie Erg...</td>\n",
       "      <td>{'df': ['Bayerische Kultur und Tierschutz', 'F...</td>\n",
       "    </tr>\n",
       "    <tr>\n",
       "      <th>1</th>\n",
       "      <td>1</td>\n",
       "      <td>Westernstadt- und Pullman-City-Themen dominier...</td>\n",
       "      <td>Die Benutzer sind stark interessiert an Themen...</td>\n",
       "      <td>[Tz44yh3, Tz44yh3, Tz44yh3, U1cOYkS, U1R6RAH, ...</td>\n",
       "      <td>[U1vfFvD, U1LVc1F, U24Sgay, U1ivOUP, TDwVipw, ...</td>\n",
       "      <td>Index(['U1X423G', 'Tz44yh3', 'U25cvNC', 'U1FwZ...</td>\n",
       "      <td>Index(['U1X423G', 'U18ieT0', 'U1nnvCt', 'U1Vp3...</td>\n",
       "      <td>Index(['U1X423G', 'U1Xifri', 'U20VRdp', 'U19zC...</td>\n",
       "      <td>event_date                           ...</td>\n",
       "      <td>{'engaged': [[[255 255 255], [255 255 255], [2...</td>\n",
       "      <td>{'engaged': [[[255 255 255], [255 255 255], [2...</td>\n",
       "      <td>{'Niederbayern': 108680, 'Mittelfranken': 5230...</td>\n",
       "      <td>{'frequent': 81807, 'nonfrequent': 30111}</td>\n",
       "      <td>**Regionale Interessen der Benutzer**\\n\\nDie E...</td>\n",
       "      <td>{'df': ['Bayerische Kultur und Tierschutz', 'F...</td>\n",
       "    </tr>\n",
       "    <tr>\n",
       "      <th>2</th>\n",
       "      <td>2</td>\n",
       "      <td>Bahntreue und Tarifstreit</td>\n",
       "      <td>Die Interesse dieser Benutzergruppe konzentrie...</td>\n",
       "      <td>[U2DTLhs, U1JIou0, U2AKLNZ, U1nMzVZ, U2DTLhs, ...</td>\n",
       "      <td>[U2C7oSB, TvfGDHo, U0K7z0m, U1nyJnF, U1Q6dDA, ...</td>\n",
       "      <td>Index(['U1X423G', 'Tz44yh3', 'U25cvNC', 'U1FwZ...</td>\n",
       "      <td>Index(['U1X423G', 'U18ieT0', 'U1nnvCt', 'U1Vp3...</td>\n",
       "      <td>Index(['U1X423G', 'U1Xifri', 'U20VRdp', 'U19zC...</td>\n",
       "      <td>event_date                           ...</td>\n",
       "      <td>{'engaged': [[[255 255 255], [255 255 255], [2...</td>\n",
       "      <td>{'engaged': [[[255 255 255], [255 255 255], [2...</td>\n",
       "      <td>{'Oberbayern': 21914, 'Mittelfranken': 8288, '...</td>\n",
       "      <td>{'frequent': 85158, 'nonfrequent': 28214}</td>\n",
       "      <td>**Regionale Interessen der Benutzer**\\n Die Er...</td>\n",
       "      <td>{'df': ['Bayerische Kultur und Tierschutz', 'F...</td>\n",
       "    </tr>\n",
       "  </tbody>\n",
       "</table>\n",
       "</div>"
      ],
      "text/plain": [
       "   id                                              title  \\\n",
       "0   0  Schulwesen und Unwetter-Themen dominieren Inte...   \n",
       "1   1  Westernstadt- und Pullman-City-Themen dominier...   \n",
       "2   2                          Bahntreue und Tarifstreit   \n",
       "\n",
       "                                                desc  \\\n",
       "0  Diese Benutzersegment sind stark an Themen aus...   \n",
       "1  Die Benutzer sind stark interessiert an Themen...   \n",
       "2  Die Interesse dieser Benutzergruppe konzentrie...   \n",
       "\n",
       "                                        docs_engaged  \\\n",
       "0  [U1X423G, U1X423G, U1X423G, U1X423G, U1X423G, ...   \n",
       "1  [Tz44yh3, Tz44yh3, Tz44yh3, U1cOYkS, U1R6RAH, ...   \n",
       "2  [U2DTLhs, U1JIou0, U2AKLNZ, U1nMzVZ, U2DTLhs, ...   \n",
       "\n",
       "                                     docs_notengaged  \\\n",
       "0  [U1WVOF2, U1RrpwH, U1WVOF2, U1WVOF2, U1WVOF2, ...   \n",
       "1  [U1vfFvD, U1LVc1F, U24Sgay, U1ivOUP, TDwVipw, ...   \n",
       "2  [U2C7oSB, TvfGDHo, U0K7z0m, U1nyJnF, U1Q6dDA, ...   \n",
       "\n",
       "                                           high_docs  \\\n",
       "0  Index(['U1X423G', 'Tz44yh3', 'U25cvNC', 'U1FwZ...   \n",
       "1  Index(['U1X423G', 'Tz44yh3', 'U25cvNC', 'U1FwZ...   \n",
       "2  Index(['U1X423G', 'Tz44yh3', 'U25cvNC', 'U1FwZ...   \n",
       "\n",
       "                                            med_docs  \\\n",
       "0  Index(['U1X423G', 'U18ieT0', 'U1nnvCt', 'U1Vp3...   \n",
       "1  Index(['U1X423G', 'U18ieT0', 'U1nnvCt', 'U1Vp3...   \n",
       "2  Index(['U1X423G', 'U18ieT0', 'U1nnvCt', 'U1Vp3...   \n",
       "\n",
       "                                            low_docs  \\\n",
       "0  Index(['U1X423G', 'U1Xifri', 'U20VRdp', 'U19zC...   \n",
       "1  Index(['U1X423G', 'U1Xifri', 'U20VRdp', 'U19zC...   \n",
       "2  Index(['U1X423G', 'U1Xifri', 'U20VRdp', 'U19zC...   \n",
       "\n",
       "                                                  df  \\\n",
       "0           event_date                           ...   \n",
       "1           event_date                           ...   \n",
       "2           event_date                           ...   \n",
       "\n",
       "                                         word_clouds  \\\n",
       "0  {'engaged': [[[255 255 255], [255 255 255], [2...   \n",
       "1  {'engaged': [[[255 255 255], [255 255 255], [2...   \n",
       "2  {'engaged': [[[255 255 255], [255 255 255], [2...   \n",
       "\n",
       "                            word_clouds_nocategories  \\\n",
       "0  {'engaged': [[[255 255 255], [255 255 255], [2...   \n",
       "1  {'engaged': [[[255 255 255], [255 255 255], [2...   \n",
       "2  {'engaged': [[[255 255 255], [255 255 255], [2...   \n",
       "\n",
       "                                             regions  \\\n",
       "0  {'Unterfranken': 196536, 'Schwaben': 191675, '...   \n",
       "1  {'Niederbayern': 108680, 'Mittelfranken': 5230...   \n",
       "2  {'Oberbayern': 21914, 'Mittelfranken': 8288, '...   \n",
       "\n",
       "                                user_type_cnt  \\\n",
       "0  {'frequent': 127684, 'nonfrequent': 32503}   \n",
       "1   {'frequent': 81807, 'nonfrequent': 30111}   \n",
       "2   {'frequent': 85158, 'nonfrequent': 28214}   \n",
       "\n",
       "                                        regions_desc  \\\n",
       "0  **Regionale Interessen der Benutzer**\\nDie Erg...   \n",
       "1  **Regionale Interessen der Benutzer**\\n\\nDie E...   \n",
       "2  **Regionale Interessen der Benutzer**\\n Die Er...   \n",
       "\n",
       "                                           seq_model  \n",
       "0  {'df': ['Bayerische Kultur und Tierschutz', 'F...  \n",
       "1  {'df': ['Bayerische Kultur und Tierschutz', 'F...  \n",
       "2  {'df': ['Bayerische Kultur und Tierschutz', 'F...  "
      ]
     },
     "execution_count": 3,
     "metadata": {},
     "output_type": "execute_result"
    }
   ],
   "source": [
    "tools.news_topics.head(3)"
   ]
  },
  {
   "cell_type": "code",
   "execution_count": 4,
   "id": "1c884c24",
   "metadata": {},
   "outputs": [
    {
     "data": {
      "text/html": [
       "<div>\n",
       "<style scoped>\n",
       "    .dataframe tbody tr th:only-of-type {\n",
       "        vertical-align: middle;\n",
       "    }\n",
       "\n",
       "    .dataframe tbody tr th {\n",
       "        vertical-align: top;\n",
       "    }\n",
       "\n",
       "    .dataframe thead th {\n",
       "        text-align: right;\n",
       "    }\n",
       "</style>\n",
       "<table border=\"1\" class=\"dataframe\">\n",
       "  <thead>\n",
       "    <tr style=\"text-align: right;\">\n",
       "      <th></th>\n",
       "      <th>id</th>\n",
       "      <th>primaryCategory</th>\n",
       "      <th>first_publication_date</th>\n",
       "      <th>title</th>\n",
       "      <th>teaserText</th>\n",
       "      <th>tags</th>\n",
       "      <th>text</th>\n",
       "      <th>text_clean</th>\n",
       "      <th>embedding</th>\n",
       "      <th>word_count</th>\n",
       "      <th>read_time_seconds</th>\n",
       "      <th>tags_x</th>\n",
       "      <th>merged_doc</th>\n",
       "      <th>region</th>\n",
       "      <th>teaserText_d</th>\n",
       "      <th>title_d</th>\n",
       "      <th>text_d</th>\n",
       "      <th>tags_d</th>\n",
       "      <th>teaser_d</th>\n",
       "      <th>clusters</th>\n",
       "    </tr>\n",
       "  </thead>\n",
       "  <tbody>\n",
       "    <tr>\n",
       "      <th>0</th>\n",
       "      <td>RpXv7mp</td>\n",
       "      <td>bayern</td>\n",
       "      <td>1330556400638</td>\n",
       "      <td>Nockherberg-Texter Hannes Burger: Ein Leben fü...</td>\n",
       "      <td>nockherberggeschichte geschrieben 22 hannes bu...</td>\n",
       "      <td>[bayern, hannes burger, fastenpredigt, nockher...</td>\n",
       "      <td>&lt;h2&gt;1937: Kindheit in Schwabing&lt;/h2&gt;&lt;p&gt;Am 18. ...</td>\n",
       "      <td>1937: Kindheit in Schwabing Am 18. Juni 1937 k...</td>\n",
       "      <td>[-0.0322420411, 0.0348154157, 0.0587854125, -0...</td>\n",
       "      <td>590</td>\n",
       "      <td>141.60</td>\n",
       "      <td>bayern hannes_burger fastenpredigt nockherberg</td>\n",
       "      <td>nockherberggeschichte geschrieben 22 hannes bu...</td>\n",
       "      <td>[]</td>\n",
       "      <td>nockherberggeschichte geschrieben 22 hannes bu...</td>\n",
       "      <td>nockherberg-texter hannes burger leben journal...</td>\n",
       "      <td>1937 kindheit schwabing 18 juni 1937 johann an...</td>\n",
       "      <td>bayern hannes burger fastenpredigt nockherberg</td>\n",
       "      <td>nockherberggeschichte geschrieben 22 hannes bu...</td>\n",
       "      <td>[0, 8, 16]</td>\n",
       "    </tr>\n",
       "    <tr>\n",
       "      <th>1</th>\n",
       "      <td>RpRczII</td>\n",
       "      <td>bayern</td>\n",
       "      <td>1357686000608</td>\n",
       "      <td>Nockherberg: Starkbiertempel mit Tradition</td>\n",
       "      <td>starkbieranstich derblecken hats eigentlich er...</td>\n",
       "      <td>[bayern, starkbieranstich, paulaner, nockherberg]</td>\n",
       "      <td>&lt;p&gt;Mit dem Derblecken feiert die Paulaner-Brau...</td>\n",
       "      <td>Mit dem Derblecken feiert die Paulaner-Brauere...</td>\n",
       "      <td>[0.0100888694, 0.0243038647, 0.0746701434, -0....</td>\n",
       "      <td>488</td>\n",
       "      <td>117.12</td>\n",
       "      <td>bayern starkbieranstich paulaner nockherberg</td>\n",
       "      <td>starkbieranstich derblecken hats eigentlich er...</td>\n",
       "      <td>[]</td>\n",
       "      <td>starkbieranstich derblecken hats eigentlich er...</td>\n",
       "      <td>nockherberg starkbiertempel tradition</td>\n",
       "      <td>derblecken feiert paulaner-brauerei traditione...</td>\n",
       "      <td>bayern starkbieranstich paulaner nockherberg</td>\n",
       "      <td>starkbieranstich derblecken hats eigentlich er...</td>\n",
       "      <td>[0, 8, 14, 16]</td>\n",
       "    </tr>\n",
       "    <tr>\n",
       "      <th>2</th>\n",
       "      <td>RpcUnSv</td>\n",
       "      <td>bayern</td>\n",
       "      <td>1394578800470</td>\n",
       "      <td>Nockherberg 2014: Die besten Sprüche der Faste...</td>\n",
       "      <td>mama gescholten - horst hubsi dobsi tadelte lu...</td>\n",
       "      <td>[bayern, singspiel, luise kinseher, nockherberg]</td>\n",
       "      <td>&lt;p&gt;In &lt;a href=\"https://www.br.de/mediathek/vid...</td>\n",
       "      <td>In ihrer Fastenrede las Mama Bavaria nahezu de...</td>\n",
       "      <td>[-0.0106897615, -0.0356420763, 0.0599830784, -...</td>\n",
       "      <td>1403</td>\n",
       "      <td>336.72</td>\n",
       "      <td>bayern singspiel luise_kinseher nockherberg</td>\n",
       "      <td>mama gescholten - horst hubsi dobsi tadelte lu...</td>\n",
       "      <td>[]</td>\n",
       "      <td>mama gescholten - horst hubsi dobsi tadelte lu...</td>\n",
       "      <td>nockherberg 2014 sprüche fastenpredigt</td>\n",
       "      <td>fastenrede las mama bavaria nahezu gesamten ka...</td>\n",
       "      <td>bayern singspiel luise kinseher nockherberg</td>\n",
       "      <td>mama gescholten - horst hubsi dobsi tadelte lu...</td>\n",
       "      <td>[0, 14, 21, 22]</td>\n",
       "    </tr>\n",
       "  </tbody>\n",
       "</table>\n",
       "</div>"
      ],
      "text/plain": [
       "        id primaryCategory  first_publication_date  \\\n",
       "0  RpXv7mp          bayern           1330556400638   \n",
       "1  RpRczII          bayern           1357686000608   \n",
       "2  RpcUnSv          bayern           1394578800470   \n",
       "\n",
       "                                               title  \\\n",
       "0  Nockherberg-Texter Hannes Burger: Ein Leben fü...   \n",
       "1         Nockherberg: Starkbiertempel mit Tradition   \n",
       "2  Nockherberg 2014: Die besten Sprüche der Faste...   \n",
       "\n",
       "                                          teaserText  \\\n",
       "0  nockherberggeschichte geschrieben 22 hannes bu...   \n",
       "1  starkbieranstich derblecken hats eigentlich er...   \n",
       "2  mama gescholten - horst hubsi dobsi tadelte lu...   \n",
       "\n",
       "                                                tags  \\\n",
       "0  [bayern, hannes burger, fastenpredigt, nockher...   \n",
       "1  [bayern, starkbieranstich, paulaner, nockherberg]   \n",
       "2   [bayern, singspiel, luise kinseher, nockherberg]   \n",
       "\n",
       "                                                text  \\\n",
       "0  <h2>1937: Kindheit in Schwabing</h2><p>Am 18. ...   \n",
       "1  <p>Mit dem Derblecken feiert die Paulaner-Brau...   \n",
       "2  <p>In <a href=\"https://www.br.de/mediathek/vid...   \n",
       "\n",
       "                                          text_clean  \\\n",
       "0  1937: Kindheit in Schwabing Am 18. Juni 1937 k...   \n",
       "1  Mit dem Derblecken feiert die Paulaner-Brauere...   \n",
       "2  In ihrer Fastenrede las Mama Bavaria nahezu de...   \n",
       "\n",
       "                                           embedding  word_count  \\\n",
       "0  [-0.0322420411, 0.0348154157, 0.0587854125, -0...         590   \n",
       "1  [0.0100888694, 0.0243038647, 0.0746701434, -0....         488   \n",
       "2  [-0.0106897615, -0.0356420763, 0.0599830784, -...        1403   \n",
       "\n",
       "   read_time_seconds                                          tags_x  \\\n",
       "0             141.60  bayern hannes_burger fastenpredigt nockherberg   \n",
       "1             117.12    bayern starkbieranstich paulaner nockherberg   \n",
       "2             336.72     bayern singspiel luise_kinseher nockherberg   \n",
       "\n",
       "                                          merged_doc region  \\\n",
       "0  nockherberggeschichte geschrieben 22 hannes bu...     []   \n",
       "1  starkbieranstich derblecken hats eigentlich er...     []   \n",
       "2  mama gescholten - horst hubsi dobsi tadelte lu...     []   \n",
       "\n",
       "                                        teaserText_d  \\\n",
       "0  nockherberggeschichte geschrieben 22 hannes bu...   \n",
       "1  starkbieranstich derblecken hats eigentlich er...   \n",
       "2  mama gescholten - horst hubsi dobsi tadelte lu...   \n",
       "\n",
       "                                             title_d  \\\n",
       "0  nockherberg-texter hannes burger leben journal...   \n",
       "1              nockherberg starkbiertempel tradition   \n",
       "2             nockherberg 2014 sprüche fastenpredigt   \n",
       "\n",
       "                                              text_d  \\\n",
       "0  1937 kindheit schwabing 18 juni 1937 johann an...   \n",
       "1  derblecken feiert paulaner-brauerei traditione...   \n",
       "2  fastenrede las mama bavaria nahezu gesamten ka...   \n",
       "\n",
       "                                           tags_d  \\\n",
       "0  bayern hannes burger fastenpredigt nockherberg   \n",
       "1    bayern starkbieranstich paulaner nockherberg   \n",
       "2     bayern singspiel luise kinseher nockherberg   \n",
       "\n",
       "                                            teaser_d         clusters  \n",
       "0  nockherberggeschichte geschrieben 22 hannes bu...       [0, 8, 16]  \n",
       "1  starkbieranstich derblecken hats eigentlich er...   [0, 8, 14, 16]  \n",
       "2  mama gescholten - horst hubsi dobsi tadelte lu...  [0, 14, 21, 22]  "
      ]
     },
     "execution_count": 4,
     "metadata": {},
     "output_type": "execute_result"
    }
   ],
   "source": [
    "tools.news_raw.head(3)"
   ]
  },
  {
   "cell_type": "markdown",
   "id": "2e5365de",
   "metadata": {},
   "source": [
    "## User segment tools"
   ]
  },
  {
   "cell_type": "code",
   "execution_count": 5,
   "id": "4a1f735c",
   "metadata": {},
   "outputs": [
    {
     "data": {
      "text/plain": [
       "{'segment_id': 1,\n",
       " 'title': 'Westernstadt- und Pullman-City-Themen dominieren Interesse',\n",
       " 'description': 'Die Benutzer sind stark interessiert an Themen wie Westernstadt, Pullman City, Bränden, Freizeitparks und Zerstörung. Sie möchten sich über lokale Ereignisse informieren, insbesondere wenn sie negative Auswirkungen auf die Bevölkerung haben. Die Benutzer zeigen auch ein großes Interesse an Themen wie Unfällen und Verkehrsunfällen, die in der Region Passau passiert sind. Im Allgemeinen scheint dies eine lokale Bevölkerung zu sein, die sich für regionale Ereignisse interessiert.',\n",
       " 'user_frequent': 81807,\n",
       " 'user_nonfrequent': 30111,\n",
       " 'region_consumption': {'Niederbayern': 108680,\n",
       "  'Mittelfranken': 5230,\n",
       "  'Oberfranken': 5521,\n",
       "  'Unterfranken': 5772,\n",
       "  'Oberbayern': 7527,\n",
       "  'Schwaben': 2989,\n",
       "  'Oberpfalz': 3699}}"
      ]
     },
     "execution_count": 5,
     "metadata": {},
     "output_type": "execute_result"
    }
   ],
   "source": [
    "tools.get_segment_description(1)"
   ]
  },
  {
   "cell_type": "code",
   "execution_count": 6,
   "id": "7b0c256b",
   "metadata": {},
   "outputs": [
    {
     "data": {
      "text/plain": [
       "{'segment_id': 1,\n",
       " 'avg_scroll_depth': 0.95,\n",
       " 'avg_engaged_secs': 119.56,\n",
       " 'avg_words_per_minute': 311.93,\n",
       " 'median_engaged_secs': 104.0,\n",
       " 'engagement_rate': 1.0}"
      ]
     },
     "execution_count": 6,
     "metadata": {},
     "output_type": "execute_result"
    }
   ],
   "source": [
    "tools.get_segment_engagement_stats(1)"
   ]
  },
  {
   "cell_type": "code",
   "execution_count": 7,
   "id": "81c40d58",
   "metadata": {},
   "outputs": [
    {
     "data": {
      "text/plain": [
       "[{'from_topic': 'Fußball- und Sportthemen in Deutschland',\n",
       "  'to_topic': 'Politische und regionale Entwicklungen in Bayern',\n",
       "  'probability': 0.33},\n",
       " {'from_topic': 'Fußball- und Sportthemen in Deutschland',\n",
       "  'to_topic': 'Strafverfolgung und Recht',\n",
       "  'probability': 0.23},\n",
       " {'from_topic': 'Fußball- und Sportthemen in Deutschland',\n",
       "  'to_topic': 'Straßenverkehrsunfälle und Ermittlungen',\n",
       "  'probability': 0.21}]"
      ]
     },
     "execution_count": 7,
     "metadata": {},
     "output_type": "execute_result"
    }
   ],
   "source": [
    "tools.get_topic_transitions(1, 3)"
   ]
  },
  {
   "cell_type": "code",
   "execution_count": 8,
   "id": "85be2e7e",
   "metadata": {},
   "outputs": [
    {
     "data": {
      "text/plain": [
       "{'current_topic': 'Fußball- und Sportthemen in Deutschland',\n",
       " 'predictions': [{'next_topic': 'Politische und regionale Entwicklungen in Bayern',\n",
       "   'probability': 0.33},\n",
       "  {'next_topic': 'Strafverfolgung und Recht', 'probability': 0.23}]}"
      ]
     },
     "execution_count": 8,
     "metadata": {},
     "output_type": "execute_result"
    }
   ],
   "source": [
    "tools.get_next_topic_prediction(1, 'Fußball- und Sportthemen in Deutschland', 2)"
   ]
  },
  {
   "cell_type": "code",
   "execution_count": 9,
   "id": "defe67f9",
   "metadata": {},
   "outputs": [
    {
     "data": {
      "text/plain": [
       "[{'region': 'Niederbayern', 'readers': 108680},\n",
       " {'region': 'Oberbayern', 'readers': 7527},\n",
       " {'region': 'Unterfranken', 'readers': 5772},\n",
       " {'region': 'Oberfranken', 'readers': 5521},\n",
       " {'region': 'Mittelfranken', 'readers': 5230},\n",
       " {'region': 'Oberpfalz', 'readers': 3699}]"
      ]
     },
     "execution_count": 9,
     "metadata": {},
     "output_type": "execute_result"
    }
   ],
   "source": [
    "tools.get_segment_regions(1, 6)"
   ]
  },
  {
   "cell_type": "code",
   "execution_count": 10,
   "id": "472df01c",
   "metadata": {},
   "outputs": [
    {
     "data": {
      "text/plain": [
       "{'segment_id': 1,\n",
       " 'activity_by_hour': [{'hour': '00:00-00:59', 'reads': 766},\n",
       "  {'hour': '01:00-01:59', 'reads': 535},\n",
       "  {'hour': '02:00-02:59', 'reads': 552},\n",
       "  {'hour': '03:00-03:59', 'reads': 711},\n",
       "  {'hour': '04:00-04:59', 'reads': 1421},\n",
       "  {'hour': '05:00-05:59', 'reads': 2878},\n",
       "  {'hour': '06:00-06:59', 'reads': 3815},\n",
       "  {'hour': '07:00-07:59', 'reads': 4524},\n",
       "  {'hour': '08:00-08:59', 'reads': 4846},\n",
       "  {'hour': '09:00-09:59', 'reads': 7883},\n",
       "  {'hour': '10:00-10:59', 'reads': 15839},\n",
       "  {'hour': '11:00-11:59', 'reads': 15680},\n",
       "  {'hour': '12:00-12:59', 'reads': 14399},\n",
       "  {'hour': '13:00-13:59', 'reads': 11843},\n",
       "  {'hour': '14:00-14:59', 'reads': 10094},\n",
       "  {'hour': '15:00-15:59', 'reads': 9001},\n",
       "  {'hour': '16:00-16:59', 'reads': 7720},\n",
       "  {'hour': '17:00-17:59', 'reads': 6812},\n",
       "  {'hour': '18:00-18:59', 'reads': 5715},\n",
       "  {'hour': '19:00-19:59', 'reads': 4919},\n",
       "  {'hour': '20:00-20:59', 'reads': 4108},\n",
       "  {'hour': '21:00-21:59', 'reads': 3238},\n",
       "  {'hour': '22:00-22:59', 'reads': 1825},\n",
       "  {'hour': '23:00-23:59', 'reads': 1448}],\n",
       " 'peak_activity': '10:00-10:59',\n",
       " 'peak_value': 15839}"
      ]
     },
     "execution_count": 10,
     "metadata": {},
     "output_type": "execute_result"
    }
   ],
   "source": [
    "tools.get_segment_time_activity(1)"
   ]
  },
  {
   "cell_type": "code",
   "execution_count": 11,
   "id": "577a67fd",
   "metadata": {},
   "outputs": [
    {
     "data": {
      "text/plain": [
       "{'segment_id': 1,\n",
       " 'start_hour': 4,\n",
       " 'end_hour': 7,\n",
       " 'articles': ['Tz44yh3',\n",
       "  'TpZtSCN',\n",
       "  'U18xvlC',\n",
       "  'U1cJULv',\n",
       "  'U1nwWEI',\n",
       "  'U25cvNC',\n",
       "  'U1jAX1Q',\n",
       "  'U1cia10',\n",
       "  'U1vfFvD',\n",
       "  'U23D0U6']}"
      ]
     },
     "execution_count": 11,
     "metadata": {},
     "output_type": "execute_result"
    }
   ],
   "source": [
    "tools.get_segment_articles_by_time(1, 4, 7)"
   ]
  },
  {
   "cell_type": "code",
   "execution_count": 12,
   "id": "69c0f74e",
   "metadata": {},
   "outputs": [
    {
     "data": {
      "text/plain": [
       "{'segment_id': 1,\n",
       " 'docs_engage': ['Tz44yh3',\n",
       "  'Tz44yh3',\n",
       "  'Tz44yh3',\n",
       "  'U1cOYkS',\n",
       "  'U1R6RAH',\n",
       "  'U1L4L74',\n",
       "  'Tz44yh3',\n",
       "  'U18xvlC',\n",
       "  'Tz44yh3',\n",
       "  'Tz44yh3']}"
      ]
     },
     "execution_count": 12,
     "metadata": {},
     "output_type": "execute_result"
    }
   ],
   "source": [
    "tools.get_segment_engage_docs(1)"
   ]
  },
  {
   "cell_type": "code",
   "execution_count": 13,
   "id": "2ddf585d",
   "metadata": {},
   "outputs": [
    {
     "data": {
      "text/plain": [
       "{'segment_id': 1,\n",
       " 'docs_notengage': ['U1vfFvD',\n",
       "  'U1LVc1F',\n",
       "  'U24Sgay',\n",
       "  'U1ivOUP',\n",
       "  'TDwVipw',\n",
       "  'Tz44yh3',\n",
       "  'U1oANcY',\n",
       "  'U13ysRw',\n",
       "  'U25ptST',\n",
       "  'U25qSLF']}"
      ]
     },
     "execution_count": 13,
     "metadata": {},
     "output_type": "execute_result"
    }
   ],
   "source": [
    "tools.get_segment_not_engage_docs(1)"
   ]
  },
  {
   "cell_type": "code",
   "execution_count": 14,
   "id": "ff889d49",
   "metadata": {},
   "outputs": [
    {
     "data": {
      "text/plain": [
       "{'segment_id': 1,\n",
       " 'high_representative_docs': ['U1X423G',\n",
       "  'Tz44yh3',\n",
       "  'U25cvNC',\n",
       "  'U1FwZfk',\n",
       "  'U23D0U6',\n",
       "  'U20VRdp',\n",
       "  'U12z2y7',\n",
       "  'U0xcPEo',\n",
       "  'U1tS18x',\n",
       "  'U14l5hx',\n",
       "  'U1QQ3GQ',\n",
       "  'U1A28al',\n",
       "  'U0x6pHP',\n",
       "  'U18xvlC',\n",
       "  'U1oSUPk',\n",
       "  'U1dg5yl',\n",
       "  'U1w4WQh',\n",
       "  'TgrFvBe',\n",
       "  'U1pWEJT']}"
      ]
     },
     "execution_count": 14,
     "metadata": {},
     "output_type": "execute_result"
    }
   ],
   "source": [
    "tools.get_segment_high_rep_docs(1)"
   ]
  },
  {
   "cell_type": "code",
   "execution_count": 15,
   "id": "19b2519f",
   "metadata": {},
   "outputs": [
    {
     "data": {
      "text/plain": [
       "{'segment_id': 1,\n",
       " 'activity_by_day_part': {'morning': 69864,\n",
       "  'afternoon': 45470,\n",
       "  'evening': 17980,\n",
       "  'night': 7258},\n",
       " 'peak_day_part': 'morning',\n",
       " 'peak_value': 69864}"
      ]
     },
     "execution_count": 15,
     "metadata": {},
     "output_type": "execute_result"
    }
   ],
   "source": [
    "tools.get_segment_activity_by_day_part(1)"
   ]
  },
  {
   "cell_type": "markdown",
   "id": "3eda0e16",
   "metadata": {},
   "source": [
    "## Raw Aricles tools"
   ]
  },
  {
   "cell_type": "code",
   "execution_count": 16,
   "id": "e271ee10",
   "metadata": {},
   "outputs": [
    {
     "data": {
      "text/plain": [
       "['Tz44yh3',\n",
       " 'TpZtSCN',\n",
       " 'U18xvlC',\n",
       " 'U1cJULv',\n",
       " 'U1nwWEI',\n",
       " 'U25cvNC',\n",
       " 'U1jAX1Q',\n",
       " 'U1cia10',\n",
       " 'U1vfFvD',\n",
       " 'U23D0U6']"
      ]
     },
     "execution_count": 16,
     "metadata": {},
     "output_type": "execute_result"
    }
   ],
   "source": [
    "tools.get_segment_articles_by_time(1, 4, 7)['articles']"
   ]
  },
  {
   "cell_type": "code",
   "execution_count": 17,
   "id": "bc76461d",
   "metadata": {},
   "outputs": [
    {
     "data": {
      "text/plain": [
       "['Tz44yh3',\n",
       " 'TpZtSCN',\n",
       " 'U18xvlC',\n",
       " 'U1cJULv',\n",
       " 'U1nwWEI',\n",
       " 'U25cvNC',\n",
       " 'U1jAX1Q',\n",
       " 'U1cia10',\n",
       " 'U1vfFvD',\n",
       " 'U23D0U6']"
      ]
     },
     "execution_count": 17,
     "metadata": {},
     "output_type": "execute_result"
    }
   ],
   "source": [
    "tools.get_segment_articles_by_time(1, 4, 7)['articles']"
   ]
  },
  {
   "cell_type": "code",
   "execution_count": 18,
   "id": "d75f8e8d",
   "metadata": {},
   "outputs": [
    {
     "data": {
      "text/html": [
       "<div>\n",
       "<style scoped>\n",
       "    .dataframe tbody tr th:only-of-type {\n",
       "        vertical-align: middle;\n",
       "    }\n",
       "\n",
       "    .dataframe tbody tr th {\n",
       "        vertical-align: top;\n",
       "    }\n",
       "\n",
       "    .dataframe thead th {\n",
       "        text-align: right;\n",
       "    }\n",
       "</style>\n",
       "<table border=\"1\" class=\"dataframe\">\n",
       "  <thead>\n",
       "    <tr style=\"text-align: right;\">\n",
       "      <th></th>\n",
       "      <th>id</th>\n",
       "      <th>title</th>\n",
       "      <th>teaserText</th>\n",
       "      <th>first_publication_date</th>\n",
       "    </tr>\n",
       "  </thead>\n",
       "  <tbody>\n",
       "    <tr>\n",
       "      <th>61245</th>\n",
       "      <td>TpZtSCN</td>\n",
       "      <td>Millionenschaden bei Brand in München - Feuerw...</td>\n",
       "      <td>rauchsäule weithin sichtbar münchen-neuhausen ...</td>\n",
       "      <td>1694525095805</td>\n",
       "    </tr>\n",
       "    <tr>\n",
       "      <th>67418</th>\n",
       "      <td>U18xvlC</td>\n",
       "      <td>Niederbayerischer Bauunternehmer zahlt Kaution...</td>\n",
       "      <td>mindestens millionen euro bauunternehmer günth...</td>\n",
       "      <td>1705061959265</td>\n",
       "    </tr>\n",
       "    <tr>\n",
       "      <th>67686</th>\n",
       "      <td>U1cJULv</td>\n",
       "      <td>Klinik-Umbau Schongau: Ärger um \"Abwerbung\" au...</td>\n",
       "      <td>krankenhäuser landkreis weilheim-schongau umst...</td>\n",
       "      <td>1705570699105</td>\n",
       "    </tr>\n",
       "    <tr>\n",
       "      <th>67714</th>\n",
       "      <td>U1jAX1Q</td>\n",
       "      <td>Nürnbergs City soll bunter und lebendiger werden</td>\n",
       "      <td>handel nürnberger city schwächelt geschäfte fu...</td>\n",
       "      <td>1705833421478</td>\n",
       "    </tr>\n",
       "    <tr>\n",
       "      <th>67751</th>\n",
       "      <td>U1nwWEI</td>\n",
       "      <td>Geplante Flüchtlingsunterkunft in Rabenstein i...</td>\n",
       "      <td>4-sterne-hotel rabenstein zwiesel flüchtlingsu...</td>\n",
       "      <td>1706011855512</td>\n",
       "    </tr>\n",
       "    <tr>\n",
       "      <th>67806</th>\n",
       "      <td>U1cia10</td>\n",
       "      <td>Vorerkrankungen: Die Angst, nicht verbeamtet w...</td>\n",
       "      <td>psychotherapie-patienten rückenleiden adiposit...</td>\n",
       "      <td>1705757574823</td>\n",
       "    </tr>\n",
       "    <tr>\n",
       "      <th>67816</th>\n",
       "      <td>U1vfFvD</td>\n",
       "      <td>Verletzte bei Feuer in Frankenland-Klinik</td>\n",
       "      <td>frankenland-klinik bad windsheim nacht samstag...</td>\n",
       "      <td>1705776524544</td>\n",
       "    </tr>\n",
       "    <tr>\n",
       "      <th>67822</th>\n",
       "      <td>Tz44yh3</td>\n",
       "      <td>Millionenschaden nach Großbrand in Westernstad...</td>\n",
       "      <td>westernstadt pullman city landkreis passau gro...</td>\n",
       "      <td>1705897628880</td>\n",
       "    </tr>\n",
       "    <tr>\n",
       "      <th>67857</th>\n",
       "      <td>U23D0U6</td>\n",
       "      <td>Lokführergewerkschaft GDL ruft zu sechstägigem...</td>\n",
       "      <td>tarifkonflikt bahn gdl erneut streik aufgerufe...</td>\n",
       "      <td>1705932801352</td>\n",
       "    </tr>\n",
       "    <tr>\n",
       "      <th>67885</th>\n",
       "      <td>U25cvNC</td>\n",
       "      <td>Nach Großbrand in \"Pullman City\": Hoffnung auf...</td>\n",
       "      <td>großfeuer westernstadt pullman city landkreis ...</td>\n",
       "      <td>1705985749671</td>\n",
       "    </tr>\n",
       "  </tbody>\n",
       "</table>\n",
       "</div>"
      ],
      "text/plain": [
       "            id                                              title  \\\n",
       "61245  TpZtSCN  Millionenschaden bei Brand in München - Feuerw...   \n",
       "67418  U18xvlC  Niederbayerischer Bauunternehmer zahlt Kaution...   \n",
       "67686  U1cJULv  Klinik-Umbau Schongau: Ärger um \"Abwerbung\" au...   \n",
       "67714  U1jAX1Q   Nürnbergs City soll bunter und lebendiger werden   \n",
       "67751  U1nwWEI  Geplante Flüchtlingsunterkunft in Rabenstein i...   \n",
       "67806  U1cia10  Vorerkrankungen: Die Angst, nicht verbeamtet w...   \n",
       "67816  U1vfFvD         Verletzte bei Feuer in Frankenland-Klinik    \n",
       "67822  Tz44yh3  Millionenschaden nach Großbrand in Westernstad...   \n",
       "67857  U23D0U6  Lokführergewerkschaft GDL ruft zu sechstägigem...   \n",
       "67885  U25cvNC  Nach Großbrand in \"Pullman City\": Hoffnung auf...   \n",
       "\n",
       "                                              teaserText  \\\n",
       "61245  rauchsäule weithin sichtbar münchen-neuhausen ...   \n",
       "67418  mindestens millionen euro bauunternehmer günth...   \n",
       "67686  krankenhäuser landkreis weilheim-schongau umst...   \n",
       "67714  handel nürnberger city schwächelt geschäfte fu...   \n",
       "67751  4-sterne-hotel rabenstein zwiesel flüchtlingsu...   \n",
       "67806  psychotherapie-patienten rückenleiden adiposit...   \n",
       "67816  frankenland-klinik bad windsheim nacht samstag...   \n",
       "67822  westernstadt pullman city landkreis passau gro...   \n",
       "67857  tarifkonflikt bahn gdl erneut streik aufgerufe...   \n",
       "67885  großfeuer westernstadt pullman city landkreis ...   \n",
       "\n",
       "       first_publication_date  \n",
       "61245           1694525095805  \n",
       "67418           1705061959265  \n",
       "67686           1705570699105  \n",
       "67714           1705833421478  \n",
       "67751           1706011855512  \n",
       "67806           1705757574823  \n",
       "67816           1705776524544  \n",
       "67822           1705897628880  \n",
       "67857           1705932801352  \n",
       "67885           1705985749671  "
      ]
     },
     "execution_count": 18,
     "metadata": {},
     "output_type": "execute_result"
    }
   ],
   "source": [
    "tools.get_articles_info(\n",
    "  tools.get_segment_articles_by_time(1, 4, 7)['articles'] # Previews segment request\n",
    ")"
   ]
  },
  {
   "cell_type": "code",
   "execution_count": 19,
   "id": "81a7f9af",
   "metadata": {},
   "outputs": [
    {
     "data": {
      "text/html": [
       "<div>\n",
       "<style scoped>\n",
       "    .dataframe tbody tr th:only-of-type {\n",
       "        vertical-align: middle;\n",
       "    }\n",
       "\n",
       "    .dataframe tbody tr th {\n",
       "        vertical-align: top;\n",
       "    }\n",
       "\n",
       "    .dataframe thead th {\n",
       "        text-align: right;\n",
       "    }\n",
       "</style>\n",
       "<table border=\"1\" class=\"dataframe\">\n",
       "  <thead>\n",
       "    <tr style=\"text-align: right;\">\n",
       "      <th></th>\n",
       "      <th>title</th>\n",
       "      <th>teaserText</th>\n",
       "      <th>first_publication_date</th>\n",
       "    </tr>\n",
       "  </thead>\n",
       "  <tbody>\n",
       "    <tr>\n",
       "      <th>67822</th>\n",
       "      <td>Millionenschaden nach Großbrand in Westernstad...</td>\n",
       "      <td>westernstadt pullman city landkreis passau gro...</td>\n",
       "      <td>2024-01-22 04:27:08.880</td>\n",
       "    </tr>\n",
       "    <tr>\n",
       "      <th>67688</th>\n",
       "      <td>Wie anstrengend ist es bei der Feuerwehr? Ein ...</td>\n",
       "      <td>erreichbar egal nacht ehrenamtliche freiwillig...</td>\n",
       "      <td>2024-01-18 10:06:36.534</td>\n",
       "    </tr>\n",
       "    <tr>\n",
       "      <th>67502</th>\n",
       "      <td>Neuer Vulkanausbruch auf Island - Lava erreich...</td>\n",
       "      <td>abermals öffnet island erde bildet glutrotes l...</td>\n",
       "      <td>2024-01-15 17:05:15.160</td>\n",
       "    </tr>\n",
       "    <tr>\n",
       "      <th>67553</th>\n",
       "      <td>Wegen Turbulenzen: Zuckerrübenkampagne geht in...</td>\n",
       "      <td>eigentlich produktion südzucker-werk ochsenfur...</td>\n",
       "      <td>2024-01-15 15:17:58.003</td>\n",
       "    </tr>\n",
       "  </tbody>\n",
       "</table>\n",
       "</div>"
      ],
      "text/plain": [
       "                                                   title  \\\n",
       "67822  Millionenschaden nach Großbrand in Westernstad...   \n",
       "67688  Wie anstrengend ist es bei der Feuerwehr? Ein ...   \n",
       "67502  Neuer Vulkanausbruch auf Island - Lava erreich...   \n",
       "67553  Wegen Turbulenzen: Zuckerrübenkampagne geht in...   \n",
       "\n",
       "                                              teaserText  \\\n",
       "67822  westernstadt pullman city landkreis passau gro...   \n",
       "67688  erreichbar egal nacht ehrenamtliche freiwillig...   \n",
       "67502  abermals öffnet island erde bildet glutrotes l...   \n",
       "67553  eigentlich produktion südzucker-werk ochsenfur...   \n",
       "\n",
       "       first_publication_date  \n",
       "67822 2024-01-22 04:27:08.880  \n",
       "67688 2024-01-18 10:06:36.534  \n",
       "67502 2024-01-15 17:05:15.160  \n",
       "67553 2024-01-15 15:17:58.003  "
      ]
     },
     "execution_count": 19,
     "metadata": {},
     "output_type": "execute_result"
    }
   ],
   "source": [
    "tools.get_top_recent_articles(\n",
    "  tools.get_segment_engage_docs(1)['docs_engage'],\n",
    "  4\n",
    ")"
   ]
  },
  {
   "cell_type": "code",
   "execution_count": 20,
   "id": "4e50df81",
   "metadata": {},
   "outputs": [
    {
     "data": {
      "text/plain": [
       "[0, 1, 2, 3, 5, 11, 15, 17, 20, 23]"
      ]
     },
     "execution_count": 20,
     "metadata": {},
     "output_type": "execute_result"
    }
   ],
   "source": [
    "tools.get_unique_clusters(\n",
    "  tools.get_segment_engage_docs(1)['docs_engage']\n",
    ")"
   ]
  },
  {
   "cell_type": "markdown",
   "id": "0a08a0a1",
   "metadata": {},
   "source": [
    "## Raw news tools"
   ]
  },
  {
   "cell_type": "code",
   "execution_count": 21,
   "id": "8ecde020",
   "metadata": {},
   "outputs": [
    {
     "data": {
      "text/html": [
       "<div>\n",
       "<style scoped>\n",
       "    .dataframe tbody tr th:only-of-type {\n",
       "        vertical-align: middle;\n",
       "    }\n",
       "\n",
       "    .dataframe tbody tr th {\n",
       "        vertical-align: top;\n",
       "    }\n",
       "\n",
       "    .dataframe thead th {\n",
       "        text-align: right;\n",
       "    }\n",
       "</style>\n",
       "<table border=\"1\" class=\"dataframe\">\n",
       "  <thead>\n",
       "    <tr style=\"text-align: right;\">\n",
       "      <th></th>\n",
       "      <th>title</th>\n",
       "      <th>desc</th>\n",
       "    </tr>\n",
       "  </thead>\n",
       "  <tbody>\n",
       "    <tr>\n",
       "      <th>0</th>\n",
       "      <td>Schulwesen und Unwetter-Themen dominieren Inte...</td>\n",
       "      <td>Diese Benutzersegment sind stark an Themen aus...</td>\n",
       "    </tr>\n",
       "    <tr>\n",
       "      <th>1</th>\n",
       "      <td>Westernstadt- und Pullman-City-Themen dominier...</td>\n",
       "      <td>Die Benutzer sind stark interessiert an Themen...</td>\n",
       "    </tr>\n",
       "    <tr>\n",
       "      <th>2</th>\n",
       "      <td>Bahntreue und Tarifstreit</td>\n",
       "      <td>Die Interesse dieser Benutzergruppe konzentrie...</td>\n",
       "    </tr>\n",
       "    <tr>\n",
       "      <th>3</th>\n",
       "      <td>Themen rund um politische Ereignisse und Recht...</td>\n",
       "      <td>Die Nutzer dieses Segments zeigen ein starkes ...</td>\n",
       "    </tr>\n",
       "    <tr>\n",
       "      <th>5</th>\n",
       "      <td>Rechtsextremismus und Politik im Fokus</td>\n",
       "      <td>Die Benutzer dieser Segmente zeigen ein starke...</td>\n",
       "    </tr>\n",
       "    <tr>\n",
       "      <th>11</th>\n",
       "      <td>Politische Debatten und Kriminalität im Fokus</td>\n",
       "      <td>Die Interessen dieser Usergruppe sind auf poli...</td>\n",
       "    </tr>\n",
       "  </tbody>\n",
       "</table>\n",
       "</div>"
      ],
      "text/plain": [
       "                                                title  \\\n",
       "0   Schulwesen und Unwetter-Themen dominieren Inte...   \n",
       "1   Westernstadt- und Pullman-City-Themen dominier...   \n",
       "2                           Bahntreue und Tarifstreit   \n",
       "3   Themen rund um politische Ereignisse und Recht...   \n",
       "5              Rechtsextremismus und Politik im Fokus   \n",
       "11      Politische Debatten und Kriminalität im Fokus   \n",
       "\n",
       "                                                 desc  \n",
       "0   Diese Benutzersegment sind stark an Themen aus...  \n",
       "1   Die Benutzer sind stark interessiert an Themen...  \n",
       "2   Die Interesse dieser Benutzergruppe konzentrie...  \n",
       "3   Die Nutzer dieses Segments zeigen ein starkes ...  \n",
       "5   Die Benutzer dieser Segmente zeigen ein starke...  \n",
       "11  Die Interessen dieser Usergruppe sind auf poli...  "
      ]
     },
     "execution_count": 21,
     "metadata": {},
     "output_type": "execute_result"
    }
   ],
   "source": [
    "tools.get_news_topics_info( #New topics\n",
    "  tools.get_unique_clusters( # Topic of the aricles\n",
    "    tools.get_segment_engage_docs(1)['docs_engage'] # Articles Ids\n",
    "  )\n",
    ")"
   ]
  },
  {
   "cell_type": "code",
   "execution_count": 22,
   "id": "95427583",
   "metadata": {},
   "outputs": [
    {
     "data": {
      "text/plain": [
       "['U1X423G', 'Tz44yh3', 'U25cvNC', 'U1FwZfk']"
      ]
     },
     "execution_count": 22,
     "metadata": {},
     "output_type": "execute_result"
    }
   ],
   "source": [
    "tools.get_news_topics_high_docs([3])"
   ]
  },
  {
   "cell_type": "code",
   "execution_count": 23,
   "id": "361151e3",
   "metadata": {},
   "outputs": [
    {
     "data": {
      "text/plain": [
       "['U1X423G', 'U1Xifri', 'U20VRdp', 'U19zCAw']"
      ]
     },
     "execution_count": 23,
     "metadata": {},
     "output_type": "execute_result"
    }
   ],
   "source": [
    "tools.get_news_topics_low_docs([1])"
   ]
  },
  {
   "cell_type": "code",
   "execution_count": 24,
   "id": "d7342643",
   "metadata": {},
   "outputs": [
    {
     "data": {
      "text/html": [
       "<div>\n",
       "<style scoped>\n",
       "    .dataframe tbody tr th:only-of-type {\n",
       "        vertical-align: middle;\n",
       "    }\n",
       "\n",
       "    .dataframe tbody tr th {\n",
       "        vertical-align: top;\n",
       "    }\n",
       "\n",
       "    .dataframe thead th {\n",
       "        text-align: right;\n",
       "    }\n",
       "</style>\n",
       "<table border=\"1\" class=\"dataframe\">\n",
       "  <thead>\n",
       "    <tr style=\"text-align: right;\">\n",
       "      <th></th>\n",
       "      <th>id</th>\n",
       "      <th>title</th>\n",
       "      <th>teaserText</th>\n",
       "      <th>first_publication_date</th>\n",
       "    </tr>\n",
       "  </thead>\n",
       "  <tbody>\n",
       "    <tr>\n",
       "      <th>67471</th>\n",
       "      <td>U1FwZfk</td>\n",
       "      <td>AfD-Parteitag fordert Halemba zum Niederlegen ...</td>\n",
       "      <td>bayerische afd-parteibasis watscht daniel hale...</td>\n",
       "      <td>1705163614076</td>\n",
       "    </tr>\n",
       "    <tr>\n",
       "      <th>67604</th>\n",
       "      <td>U1X423G</td>\n",
       "      <td>Wo Schulen heute wegen Glatteis geschlossen bl...</td>\n",
       "      <td>unwetterwarnungen glatteis fiel mittwoch bayer...</td>\n",
       "      <td>1705555811801</td>\n",
       "    </tr>\n",
       "    <tr>\n",
       "      <th>67822</th>\n",
       "      <td>Tz44yh3</td>\n",
       "      <td>Millionenschaden nach Großbrand in Westernstad...</td>\n",
       "      <td>westernstadt pullman city landkreis passau gro...</td>\n",
       "      <td>1705897628880</td>\n",
       "    </tr>\n",
       "    <tr>\n",
       "      <th>67885</th>\n",
       "      <td>U25cvNC</td>\n",
       "      <td>Nach Großbrand in \"Pullman City\": Hoffnung auf...</td>\n",
       "      <td>großfeuer westernstadt pullman city landkreis ...</td>\n",
       "      <td>1705985749671</td>\n",
       "    </tr>\n",
       "  </tbody>\n",
       "</table>\n",
       "</div>"
      ],
      "text/plain": [
       "            id                                              title  \\\n",
       "67471  U1FwZfk  AfD-Parteitag fordert Halemba zum Niederlegen ...   \n",
       "67604  U1X423G  Wo Schulen heute wegen Glatteis geschlossen bl...   \n",
       "67822  Tz44yh3  Millionenschaden nach Großbrand in Westernstad...   \n",
       "67885  U25cvNC  Nach Großbrand in \"Pullman City\": Hoffnung auf...   \n",
       "\n",
       "                                              teaserText  \\\n",
       "67471  bayerische afd-parteibasis watscht daniel hale...   \n",
       "67604  unwetterwarnungen glatteis fiel mittwoch bayer...   \n",
       "67822  westernstadt pullman city landkreis passau gro...   \n",
       "67885  großfeuer westernstadt pullman city landkreis ...   \n",
       "\n",
       "       first_publication_date  \n",
       "67471           1705163614076  \n",
       "67604           1705555811801  \n",
       "67822           1705897628880  \n",
       "67885           1705985749671  "
      ]
     },
     "execution_count": 24,
     "metadata": {},
     "output_type": "execute_result"
    }
   ],
   "source": [
    "tools.get_articles_info( # Info of the articles\n",
    "  tools.get_news_topics_high_docs([3]) # Most representative articles of topic 3\n",
    ")"
   ]
  },
  {
   "cell_type": "markdown",
   "id": "bca16451",
   "metadata": {},
   "source": [
    "## Plan Validation"
   ]
  },
  {
   "cell_type": "markdown",
   "id": "575a300a",
   "metadata": {},
   "source": [
    "chat.ask(\"For the segment ‘Politische Debatten und Kriminalität im Fokus’, list the three most representative articles, identify their topics, and summarize what these topics reveal about this group’s interests.\")\n",
    "\n",
    "{'task_planning': {'plan': [{'task': 'get_segment_high_rep_docs', 'id': 'high_rep_docs_segment11', 'dep': [], 'args': [{'key': 'segment_id', 'value': '11'}]}, {'task': 'get_unique_clusters', 'id': 'topic_clusters_segment11', 'dep': ['high_rep_docs_segment11'], 'args': [{'key': 'articles_ids', 'value': 'DEP_high_rep_docs_segment11'}]}, {'task': 'get_news_topics_info', 'id': 'topics_info_segment11', 'dep': ['topic_clusters_segment11'], 'args': [{'key': 'topics_id', 'value': 'DEP_topic_clusters_segment11'}]}]}}\n",
    "\n",
    "{'validate_plan': {'validation': True}}\n",
    "\n",
    "{'run_plan': {'outputs': {'high_rep_docs_segment11': {'segment_id': 11, 'high_representative_docs': ['U1X423G', 'Tz44yh3', 'U25cvNC', 'U1FwZfk', 'U23D0U6', 'U20VRdp', 'U12z2y7', 'U0xcPEo', 'U1tS18x', 'U14l5hx', 'U1QQ3GQ', 'U1A28al', 'U0x6pHP', 'U18xvlC', 'U1oSUPk', 'U1dg5yl', 'U1w4WQh', 'TgrFvBe', 'U1pWEJT']}, 'topic_clusters_segment11': [], 'topics_info_segment11': Empty DataFrame\n",
    "Columns: [title, desc]\n",
    "Index: []}}}"
   ]
  },
  {
   "cell_type": "code",
   "execution_count": 28,
   "id": "66544529",
   "metadata": {},
   "outputs": [
    {
     "data": {
      "text/plain": [
       "[0,\n",
       " 2,\n",
       " 3,\n",
       " 4,\n",
       " 5,\n",
       " 6,\n",
       " 7,\n",
       " 9,\n",
       " 10,\n",
       " 11,\n",
       " 12,\n",
       " 13,\n",
       " 14,\n",
       " 15,\n",
       " 16,\n",
       " 17,\n",
       " 18,\n",
       " 19,\n",
       " 20,\n",
       " 21,\n",
       " 22,\n",
       " 23,\n",
       " 24]"
      ]
     },
     "execution_count": 28,
     "metadata": {},
     "output_type": "execute_result"
    }
   ],
   "source": [
    "tools.get_unique_clusters(\n",
    "  tools.get_segment_high_rep_docs(11)[\"high_representative_docs\"]\n",
    ")"
   ]
  },
  {
   "cell_type": "code",
   "execution_count": 27,
   "id": "c8be4060",
   "metadata": {},
   "outputs": [
    {
     "data": {
      "text/plain": [
       "{'segment_id': 11,\n",
       " 'high_representative_docs': ['U1X423G',\n",
       "  'Tz44yh3',\n",
       "  'U25cvNC',\n",
       "  'U1FwZfk',\n",
       "  'U23D0U6',\n",
       "  'U20VRdp',\n",
       "  'U12z2y7',\n",
       "  'U0xcPEo',\n",
       "  'U1tS18x',\n",
       "  'U14l5hx',\n",
       "  'U1QQ3GQ',\n",
       "  'U1A28al',\n",
       "  'U0x6pHP',\n",
       "  'U18xvlC',\n",
       "  'U1oSUPk',\n",
       "  'U1dg5yl',\n",
       "  'U1w4WQh',\n",
       "  'TgrFvBe',\n",
       "  'U1pWEJT']}"
      ]
     },
     "execution_count": 27,
     "metadata": {},
     "output_type": "execute_result"
    }
   ],
   "source": [
    "tools.get_segment_high_rep_docs(11)"
   ]
  }
 ],
 "metadata": {
  "kernelspec": {
   "display_name": "thesis_v1",
   "language": "python",
   "name": "python3"
  },
  "language_info": {
   "codemirror_mode": {
    "name": "ipython",
    "version": 3
   },
   "file_extension": ".py",
   "mimetype": "text/x-python",
   "name": "python",
   "nbconvert_exporter": "python",
   "pygments_lexer": "ipython3",
   "version": "3.11.13"
  }
 },
 "nbformat": 4,
 "nbformat_minor": 5
}

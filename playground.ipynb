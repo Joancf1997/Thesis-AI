{
 "cells": [
  {
   "cell_type": "markdown",
   "id": "1a3ffbe6",
   "metadata": {},
   "source": [
    "# Play with ARDI"
   ]
  },
  {
   "cell_type": "code",
   "execution_count": 1,
   "id": "d497da45",
   "metadata": {},
   "outputs": [
    {
     "name": "stdout",
     "output_type": "stream",
     "text": [
      "/Users/joseandres/Documents/Thesis\n",
      "/Users/joseandres/Documents/Thesis\n",
      "/Users/joseandres/Documents/Thesis\n",
      "/Users/joseandres/Documents/Thesis\n",
      "/Users/joseandres/Documents/Thesis\n",
      "welcome, ARDI is all ready to help...\n"
     ]
    }
   ],
   "source": [
    "from Assistant.ARDIChat import ChatAssistant\n",
    "\n",
    "chat = ChatAssistant()"
   ]
  },
  {
   "cell_type": "code",
   "execution_count": 3,
   "id": "d5d094b9",
   "metadata": {},
   "outputs": [
    {
     "data": {
      "text/plain": [
       "[{'task_planning': {'plan': [{'task': 'get_segment_regions',\n",
       "     'id': 'region_behavior_segment4',\n",
       "     'dep': [],\n",
       "     'args': [{'key': 'segment_id', 'value': '4'},\n",
       "      {'key': 'top_n', 'value': '10'}]}]}},\n",
       " {'validate_plan': {'validation': True}},\n",
       " {'run_plan': {'outputs': {'region_behavior_segment4': [{'region': 'Oberbayern',\n",
       "      'readers': 114399},\n",
       "     {'region': 'Oberfranken', 'readers': 58793},\n",
       "     {'region': 'Mittelfranken', 'readers': 56013},\n",
       "     {'region': 'Niederbayern', 'readers': 52376},\n",
       "     {'region': 'Schwaben', 'readers': 44986},\n",
       "     {'region': 'Unterfranken', 'readers': 43219},\n",
       "     {'region': 'Oberpfalz', 'readers': 35289}]}}},\n",
       " {'generate_response': {'response': AIMessage(content='[\\n  {\\n    \"task\": \"get_segment_regions\",\\n    \"id\": \"region_behavior_segment4\",\\n    \"dep\": [],\\n    \"args\": [\\n      { \"key\": \"segment_id\", \"value\": \"4\" },\\n      { \"key\": \"top_n\", \"value\": \"10\" }\\n    ]\\n  }\\n]', additional_kwargs={'refusal': None}, response_metadata={'token_usage': {'completion_tokens': 69, 'prompt_tokens': 6347, 'total_tokens': 6416, 'completion_tokens_details': {'accepted_prediction_tokens': 0, 'audio_tokens': 0, 'reasoning_tokens': 0, 'rejected_prediction_tokens': 0}, 'prompt_tokens_details': {'audio_tokens': 0, 'cached_tokens': 5888}}, 'model_provider': 'openai', 'model_name': 'gpt-4o-mini-2024-07-18', 'system_fingerprint': 'fp_560af6e559', 'id': 'chatcmpl-CT2TqHdwZnSPaVyW4w0lgWqUhScL3', 'service_tier': 'default', 'finish_reason': 'stop', 'logprobs': None}, id='lc_run--8ab77663-7dab-462c-b586-b34711716366-0', usage_metadata={'input_tokens': 6347, 'output_tokens': 69, 'total_tokens': 6416, 'input_token_details': {'audio': 0, 'cache_read': 5888}, 'output_token_details': {'audio': 0, 'reasoning': 0}})}}]"
      ]
     },
     "execution_count": 3,
     "metadata": {},
     "output_type": "execute_result"
    }
   ],
   "source": [
    "chat.ask(\"Descrive the region behavior of users in the segment ‘Deutschland-Themen und Politik im Fokus’.\")"
   ]
  }
 ],
 "metadata": {
  "kernelspec": {
   "display_name": "thesis_v1",
   "language": "python",
   "name": "python3"
  },
  "language_info": {
   "codemirror_mode": {
    "name": "ipython",
    "version": 3
   },
   "file_extension": ".py",
   "mimetype": "text/x-python",
   "name": "python",
   "nbconvert_exporter": "python",
   "pygments_lexer": "ipython3",
   "version": "3.11.13"
  }
 },
 "nbformat": 4,
 "nbformat_minor": 5
}

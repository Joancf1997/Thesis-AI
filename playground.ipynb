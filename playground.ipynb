{
 "cells": [
  {
   "cell_type": "markdown",
   "id": "1a3ffbe6",
   "metadata": {},
   "source": [
    "# Play with ARDI"
   ]
  },
  {
   "cell_type": "code",
   "execution_count": null,
   "id": "d497da45",
   "metadata": {},
   "outputs": [],
   "source": [
    "from Assistant.ARDIChat import ChatAssistant\n",
    "\n",
    "chat = ChatAssistant()"
   ]
  },
  {
   "cell_type": "code",
   "execution_count": null,
   "id": "01c24c2b",
   "metadata": {},
   "outputs": [],
   "source": [
    "chat.ask(\"What is the best hour to write about sports users in the segment ‘Deutschland-Themen und Politik im Fokus’.\")"
   ]
  },
  {
   "cell_type": "code",
   "execution_count": null,
   "id": "d5d094b9",
   "metadata": {},
   "outputs": [],
   "source": [
    "chat.ask(\"Descrive the region behavior of users in the segment ‘Deutschland-Themen und Politik im Fokus’.\")"
   ]
  },
  {
   "cell_type": "code",
   "execution_count": null,
   "id": "71c4ba7c",
   "metadata": {},
   "outputs": [],
   "source": [
    "chat.ask(\"For the segment ‘Politische Debatten und Kriminalität im Fokus’, list the three most representative articles, identify their topics, and summarize what these topics reveal about this group’s interests.\")"
   ]
  },
  {
   "cell_type": "code",
   "execution_count": null,
   "id": "9b15acce",
   "metadata": {},
   "outputs": [],
   "source": [
    "chat.ask(\"For the segment ‘Politische Debatten und Kriminalität im Fokus’, what are the topics consumed between midday and 3pm?\")"
   ]
  },
  {
   "cell_type": "code",
   "execution_count": null,
   "id": "5a8dd1e4",
   "metadata": {},
   "outputs": [],
   "source": [
    "# chat.ask(\"For the segment ‘Politische Debatten und Kriminalität im Fokus’, what are the topics consumed during peak hours?\")"
   ]
  }
 ],
 "metadata": {
  "kernelspec": {
   "display_name": "thesis_v1",
   "language": "python",
   "name": "python3"
  },
  "language_info": {
   "codemirror_mode": {
    "name": "ipython",
    "version": 3
   },
   "file_extension": ".py",
   "mimetype": "text/x-python",
   "name": "python",
   "nbconvert_exporter": "python",
   "pygments_lexer": "ipython3",
   "version": "3.11.13"
  }
 },
 "nbformat": 4,
 "nbformat_minor": 5
}
